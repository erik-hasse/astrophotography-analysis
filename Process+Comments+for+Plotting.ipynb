{
 "cells": [
  {
   "cell_type": "code",
   "execution_count": 3,
   "metadata": {
    "ExecuteTime": {
     "end_time": "2018-08-09T14:25:56.808114Z",
     "start_time": "2018-08-09T14:25:55.240292Z"
    },
    "collapsed": true
   },
   "outputs": [],
   "source": [
    "import praw\n",
    "import numpy as np\n",
    "import pandas as pd\n",
    "\n",
    "from textblob import TextBlob\n",
    "\n",
    "import matplotlib.pyplot as plt\n",
    "import seaborn as sns\n",
    "%matplotlib inline\n",
    "\n",
    "import re\n",
    "\n",
    "from collections import defaultdict\n",
    "import operator\n",
    "from fuzzywuzzy import fuzz"
   ]
  },
  {
   "cell_type": "markdown",
   "metadata": {},
   "source": [
    "# Import raw data"
   ]
  },
  {
   "cell_type": "code",
   "execution_count": 4,
   "metadata": {
    "ExecuteTime": {
     "end_time": "2018-08-09T14:25:58.868122Z",
     "start_time": "2018-08-09T14:25:58.385344Z"
    }
   },
   "outputs": [],
   "source": [
    "df = pd.read_csv('data.csv')\n",
    "df['first_op_comment'] = df['first_op_comment'].fillna(value='')\n",
    "df.dropna(subset=['post_title'],inplace=True)"
   ]
  },
  {
   "cell_type": "markdown",
   "metadata": {
    "ExecuteTime": {
     "end_time": "2018-07-13T13:55:27.620429Z",
     "start_time": "2018-07-13T13:55:27.616934Z"
    }
   },
   "source": [
    "# Import PI processes"
   ]
  },
  {
   "cell_type": "code",
   "execution_count": 3,
   "metadata": {
    "ExecuteTime": {
     "end_time": "2018-07-19T15:08:07.481975Z",
     "start_time": "2018-07-19T15:08:07.447397Z"
    },
    "collapsed": true
   },
   "outputs": [],
   "source": [
    "processes = pd.read_csv('processes.csv')\n",
    "scripts = pd.read_csv('scripts.csv')\n",
    "processes['type'] = pd.Series(dtype=str)\n",
    "processes['type'].fillna(value='Process',inplace=True)\n",
    "scripts['type'] = pd.Series(dtype=str)\n",
    "objs = pd.concat([processes,scripts])\n",
    "objs['type'].fillna(value='Script',inplace=True)\n",
    "objs['name_lower'] = objs['Name'].map(lambda x: x.lower())\n",
    "abbrevs = defaultdict(lambda :np.nan,{\n",
    "    'DynamicBackgroundExtraction' : 'dbe',\n",
    "    'LocalHistogramEqualization' : 'lhe',\n",
    "    'MultiscaleLinearTransform' : 'mlt',\n",
    "    'MultiscaleMedianTransform' : 'mmt',\n",
    "    'PhotometricColorCalibration' : 'pcc',\n",
    "    'ScreenTransferFunction' : 'stf',\n",
    "    'BatchPreprocessing' : 'bpp',\n",
    "    \n",
    "})\n",
    "objs['abbrev'] = objs['Name'].map(lambda x: abbrevs[x])\n",
    "commonNames = ['Crop','Divide','Invert','NewImage','Preferences',\n",
    "               'Resample','Rescale','Rotation','Script','Statistics']\n",
    "objs.drop(objs[objs['Name'].map(lambda x: x in commonNames)].index,inplace=True)\n"
   ]
  },
  {
   "cell_type": "code",
   "execution_count": 4,
   "metadata": {
    "ExecuteTime": {
     "end_time": "2018-07-19T15:08:08.632102Z",
     "start_time": "2018-07-19T15:08:08.600029Z"
    }
   },
   "outputs": [
    {
     "data": {
      "text/html": [
       "<div>\n",
       "<style scoped>\n",
       "    .dataframe tbody tr th:only-of-type {\n",
       "        vertical-align: middle;\n",
       "    }\n",
       "\n",
       "    .dataframe tbody tr th {\n",
       "        vertical-align: top;\n",
       "    }\n",
       "\n",
       "    .dataframe thead th {\n",
       "        text-align: right;\n",
       "    }\n",
       "</style>\n",
       "<table border=\"1\" class=\"dataframe\">\n",
       "  <thead>\n",
       "    <tr style=\"text-align: right;\">\n",
       "      <th></th>\n",
       "      <th>Name</th>\n",
       "      <th>type</th>\n",
       "      <th>name_lower</th>\n",
       "      <th>abbrev</th>\n",
       "    </tr>\n",
       "  </thead>\n",
       "  <tbody>\n",
       "    <tr>\n",
       "      <th>0</th>\n",
       "      <td>ACDNR</td>\n",
       "      <td>Process</td>\n",
       "      <td>acdnr</td>\n",
       "      <td>NaN</td>\n",
       "    </tr>\n",
       "    <tr>\n",
       "      <th>1</th>\n",
       "      <td>ATrousWaveletTransform</td>\n",
       "      <td>Process</td>\n",
       "      <td>atrouswavelettransform</td>\n",
       "      <td>NaN</td>\n",
       "    </tr>\n",
       "    <tr>\n",
       "      <th>2</th>\n",
       "      <td>ATrousWaveletTransform2</td>\n",
       "      <td>Process</td>\n",
       "      <td>atrouswavelettransform2</td>\n",
       "      <td>NaN</td>\n",
       "    </tr>\n",
       "    <tr>\n",
       "      <th>3</th>\n",
       "      <td>AdaptiveStretch</td>\n",
       "      <td>Process</td>\n",
       "      <td>adaptivestretch</td>\n",
       "      <td>NaN</td>\n",
       "    </tr>\n",
       "    <tr>\n",
       "      <th>4</th>\n",
       "      <td>Annotation</td>\n",
       "      <td>Process</td>\n",
       "      <td>annotation</td>\n",
       "      <td>NaN</td>\n",
       "    </tr>\n",
       "  </tbody>\n",
       "</table>\n",
       "</div>"
      ],
      "text/plain": [
       "                      Name     type               name_lower abbrev\n",
       "0                    ACDNR  Process                    acdnr    NaN\n",
       "1   ATrousWaveletTransform  Process   atrouswavelettransform    NaN\n",
       "2  ATrousWaveletTransform2  Process  atrouswavelettransform2    NaN\n",
       "3          AdaptiveStretch  Process          adaptivestretch    NaN\n",
       "4               Annotation  Process               annotation    NaN"
      ]
     },
     "execution_count": 4,
     "metadata": {},
     "output_type": "execute_result"
    }
   ],
   "source": [
    "objs.head()"
   ]
  },
  {
   "cell_type": "markdown",
   "metadata": {},
   "source": [
    "# Extract process lists from comments"
   ]
  },
  {
   "cell_type": "code",
   "execution_count": 5,
   "metadata": {
    "ExecuteTime": {
     "end_time": "2018-07-13T17:52:43.019858Z",
     "start_time": "2018-07-13T17:52:43.013648Z"
    },
    "collapsed": true
   },
   "outputs": [],
   "source": [
    "def getProcessList(s):\n",
    "    position = dict()\n",
    "    lower = s.lower()\n",
    "    for _,row in objs.iterrows():\n",
    "        nameRE = '\\s' + ('\\s*'.join(row['name_lower']))\n",
    "        nameMatch = re.search(nameRE,lower)\n",
    "        nameLoc = -1\n",
    "        abbrevLoc = -1\n",
    "        if nameMatch:\n",
    "            # Found full name\n",
    "            nameLoc = nameMatch.start()\n",
    "        if not row.isnull()['abbrev']:\n",
    "            # An abbreviation exists\n",
    "            abbrevRE = '\\s' + row['abbrev'] + '\\s'\n",
    "            abbrevMatch = re.search(abbrevRE,lower)\n",
    "            if abbrevMatch:\n",
    "                abbrevLoc = abbrevMatch.start()\n",
    "\n",
    "        if min(nameLoc,abbrevLoc)>0:\n",
    "            # Both positive\n",
    "            position[row['Name']] = min(nameLoc,abbrevLoc)\n",
    "        elif max(nameLoc,abbrevLoc)>0:\n",
    "            # one positive\n",
    "            position[row['Name']] = max(nameLoc,abbrevLoc)\n",
    "    return sorted(position.keys(),key=position.__getitem__)"
   ]
  },
  {
   "cell_type": "code",
   "execution_count": 65,
   "metadata": {
    "ExecuteTime": {
     "end_time": "2018-07-19T16:19:41.825701Z",
     "start_time": "2018-07-19T16:19:41.817897Z"
    },
    "collapsed": true
   },
   "outputs": [],
   "source": [
    "def getProcessList(s):\n",
    "    positions = dict()\n",
    "    lower = s.lower()\n",
    "    for _,row in objs.iterrows():\n",
    "        nameRE = '\\s' + ('\\s*'.join(row['name_lower']))\n",
    "        abbrevRE = ''\n",
    "        if not row.isnull()['abbrev']:\n",
    "            # An abbreviation exists\n",
    "            abbrevRE = '|\\s' + row['abbrev'] + '\\s'\n",
    "        regex = '(?:' + nameRE + abbrevRE + ')'\n",
    "        \n",
    "        reIterator = re.finditer(regex,lower)\n",
    "        locations = [m.start() for m in reIterator]\n",
    "        for l in locations:\n",
    "            positions[l] = row['Name']\n",
    "        \n",
    "    return [positions[k] for k in sorted(positions.keys())]"
   ]
  },
  {
   "cell_type": "code",
   "execution_count": 67,
   "metadata": {
    "ExecuteTime": {
     "end_time": "2018-07-19T16:19:47.754804Z",
     "start_time": "2018-07-19T16:19:47.693657Z"
    },
    "scrolled": false
   },
   "outputs": [
    {
     "data": {
      "text/plain": [
       "['SubframeSelector',\n",
       " 'StarAlignment',\n",
       " 'ImageIntegration',\n",
       " 'LinearFit',\n",
       " 'SubframeSelector',\n",
       " 'DynamicBackgroundExtraction',\n",
       " 'Deconvolution',\n",
       " 'DynamicPSF',\n",
       " 'MultiscaleMedianTransform',\n",
       " 'HistogramTransformation',\n",
       " 'ScreenTransferFunction',\n",
       " 'CurvesTransformation']"
      ]
     },
     "execution_count": 67,
     "metadata": {},
     "output_type": "execute_result"
    }
   ],
   "source": [
    "getProcessList(df.loc[28,'first_op_comment'])"
   ]
  },
  {
   "cell_type": "code",
   "execution_count": 68,
   "metadata": {
    "ExecuteTime": {
     "end_time": "2018-07-19T16:34:37.485208Z",
     "start_time": "2018-07-19T16:19:53.793111Z"
    },
    "collapsed": true
   },
   "outputs": [],
   "source": [
    "df['processes_used'] = df['first_op_comment'].map(getProcessList)"
   ]
  },
  {
   "cell_type": "markdown",
   "metadata": {},
   "source": [
    "# Import object names and catalog numbers"
   ]
  },
  {
   "cell_type": "code",
   "execution_count": 51,
   "metadata": {
    "ExecuteTime": {
     "end_time": "2018-07-19T16:07:39.763717Z",
     "start_time": "2018-07-19T16:07:39.626931Z"
    },
    "collapsed": true
   },
   "outputs": [],
   "source": [
    "messier = re.compile('M\\s*(\\d{1,3})')\n",
    "ngc = re.compile('NGC\\s*(\\d{1,4})')\n",
    "df['messier_list'] = df['post_title'].map(lambda x: [int(num) for num in messier.findall(x)])\n",
    "df['ngc_list'] = df['post_title'].map(lambda x: [int(num) for num in ngc.findall(x)])"
   ]
  },
  {
   "cell_type": "code",
   "execution_count": 52,
   "metadata": {
    "ExecuteTime": {
     "end_time": "2018-07-19T16:07:45.750117Z",
     "start_time": "2018-07-19T16:07:45.703580Z"
    }
   },
   "outputs": [
    {
     "data": {
      "text/html": [
       "<div>\n",
       "<style scoped>\n",
       "    .dataframe tbody tr th:only-of-type {\n",
       "        vertical-align: middle;\n",
       "    }\n",
       "\n",
       "    .dataframe tbody tr th {\n",
       "        vertical-align: top;\n",
       "    }\n",
       "\n",
       "    .dataframe thead th {\n",
       "        text-align: right;\n",
       "    }\n",
       "</style>\n",
       "<table border=\"1\" class=\"dataframe\">\n",
       "  <thead>\n",
       "    <tr style=\"text-align: right;\">\n",
       "      <th></th>\n",
       "      <th>ObjectNum</th>\n",
       "      <th>Name</th>\n",
       "      <th>Type</th>\n",
       "      <th>Constellation</th>\n",
       "      <th>RAHour</th>\n",
       "      <th>RAMinute</th>\n",
       "      <th>DecSign</th>\n",
       "      <th>DecDeg</th>\n",
       "      <th>DecMinute</th>\n",
       "      <th>Magnitude</th>\n",
       "      <th>Info</th>\n",
       "      <th>Distance (ly)</th>\n",
       "    </tr>\n",
       "  </thead>\n",
       "  <tbody>\n",
       "    <tr>\n",
       "      <th>0</th>\n",
       "      <td>1</td>\n",
       "      <td>NGC 1952 Crab Nebula</td>\n",
       "      <td>Supernova Remnant</td>\n",
       "      <td>Taurus</td>\n",
       "      <td>5</td>\n",
       "      <td>34.5</td>\n",
       "      <td>+</td>\n",
       "      <td>22</td>\n",
       "      <td>1.0</td>\n",
       "      <td>8.4</td>\n",
       "      <td>Size: 6.0x4.0</td>\n",
       "      <td>6300</td>\n",
       "    </tr>\n",
       "    <tr>\n",
       "      <th>1</th>\n",
       "      <td>2</td>\n",
       "      <td>NGC 7089</td>\n",
       "      <td>Globular Cluster</td>\n",
       "      <td>Aquarius</td>\n",
       "      <td>21</td>\n",
       "      <td>33.5</td>\n",
       "      <td>-</td>\n",
       "      <td>0</td>\n",
       "      <td>49.0</td>\n",
       "      <td>6.5</td>\n",
       "      <td>Size: 12.9</td>\n",
       "      <td>37500</td>\n",
       "    </tr>\n",
       "    <tr>\n",
       "      <th>2</th>\n",
       "      <td>3</td>\n",
       "      <td>NGC 5272</td>\n",
       "      <td>Globular Cluster</td>\n",
       "      <td>Canes Venatici</td>\n",
       "      <td>13</td>\n",
       "      <td>42.2</td>\n",
       "      <td>+</td>\n",
       "      <td>28</td>\n",
       "      <td>23.0</td>\n",
       "      <td>6.2</td>\n",
       "      <td>Size: 16.2</td>\n",
       "      <td>33900</td>\n",
       "    </tr>\n",
       "    <tr>\n",
       "      <th>3</th>\n",
       "      <td>4</td>\n",
       "      <td>NGC 6121</td>\n",
       "      <td>Globular Cluster</td>\n",
       "      <td>Scorpius</td>\n",
       "      <td>16</td>\n",
       "      <td>23.6</td>\n",
       "      <td>-</td>\n",
       "      <td>26</td>\n",
       "      <td>32.0</td>\n",
       "      <td>5.6</td>\n",
       "      <td>Size: 26.3</td>\n",
       "      <td>7200</td>\n",
       "    </tr>\n",
       "    <tr>\n",
       "      <th>4</th>\n",
       "      <td>5</td>\n",
       "      <td>NGC 5904</td>\n",
       "      <td>Globular Cluster</td>\n",
       "      <td>Serpens Caput</td>\n",
       "      <td>15</td>\n",
       "      <td>18.6</td>\n",
       "      <td>+</td>\n",
       "      <td>2</td>\n",
       "      <td>5.0</td>\n",
       "      <td>5.6</td>\n",
       "      <td>Size: 17.4</td>\n",
       "      <td>24500</td>\n",
       "    </tr>\n",
       "  </tbody>\n",
       "</table>\n",
       "</div>"
      ],
      "text/plain": [
       "   ObjectNum                  Name               Type   Constellation  RAHour  \\\n",
       "0          1  NGC 1952 Crab Nebula  Supernova Remnant          Taurus       5   \n",
       "1          2            NGC 7089     Globular Cluster        Aquarius      21   \n",
       "2          3            NGC 5272     Globular Cluster  Canes Venatici      13   \n",
       "3          4            NGC 6121     Globular Cluster        Scorpius      16   \n",
       "4          5            NGC 5904     Globular Cluster   Serpens Caput      15   \n",
       "\n",
       "   RAMinute DecSign  DecDeg  DecMinute Magnitude           Info  Distance (ly)  \n",
       "0      34.5       +      22        1.0       8.4  Size: 6.0x4.0           6300  \n",
       "1      33.5       -       0       49.0       6.5     Size: 12.9          37500  \n",
       "2      42.2       +      28       23.0       6.2     Size: 16.2          33900  \n",
       "3      23.6       -      26       32.0       5.6     Size: 26.3           7200  \n",
       "4      18.6       +       2        5.0       5.6     Size: 17.4          24500  "
      ]
     },
     "execution_count": 52,
     "metadata": {},
     "output_type": "execute_result"
    }
   ],
   "source": [
    "messierList = pd.read_excel('MessierObjects.xls',header=2)\n",
    "messierList.head()"
   ]
  },
  {
   "cell_type": "code",
   "execution_count": 53,
   "metadata": {
    "ExecuteTime": {
     "end_time": "2018-07-19T16:07:49.712851Z",
     "start_time": "2018-07-19T16:07:49.181390Z"
    }
   },
   "outputs": [
    {
     "data": {
      "text/html": [
       "<div>\n",
       "<style scoped>\n",
       "    .dataframe tbody tr th:only-of-type {\n",
       "        vertical-align: middle;\n",
       "    }\n",
       "\n",
       "    .dataframe tbody tr th {\n",
       "        vertical-align: top;\n",
       "    }\n",
       "\n",
       "    .dataframe thead th {\n",
       "        text-align: right;\n",
       "    }\n",
       "</style>\n",
       "<table border=\"1\" class=\"dataframe\">\n",
       "  <thead>\n",
       "    <tr style=\"text-align: right;\">\n",
       "      <th></th>\n",
       "      <th>NGC</th>\n",
       "      <th>Messier</th>\n",
       "      <th>other_names</th>\n",
       "      <th>Type</th>\n",
       "    </tr>\n",
       "  </thead>\n",
       "  <tbody>\n",
       "    <tr>\n",
       "      <th>0</th>\n",
       "      <td>1</td>\n",
       "      <td>NaN</td>\n",
       "      <td>NaN</td>\n",
       "      <td>Galaxy</td>\n",
       "    </tr>\n",
       "    <tr>\n",
       "      <th>1</th>\n",
       "      <td>2</td>\n",
       "      <td>NaN</td>\n",
       "      <td>NaN</td>\n",
       "      <td>Galaxy</td>\n",
       "    </tr>\n",
       "    <tr>\n",
       "      <th>2</th>\n",
       "      <td>3</td>\n",
       "      <td>NaN</td>\n",
       "      <td>NaN</td>\n",
       "      <td>Galaxy</td>\n",
       "    </tr>\n",
       "    <tr>\n",
       "      <th>3</th>\n",
       "      <td>4</td>\n",
       "      <td>NaN</td>\n",
       "      <td>NaN</td>\n",
       "      <td>Galaxy</td>\n",
       "    </tr>\n",
       "    <tr>\n",
       "      <th>4</th>\n",
       "      <td>5</td>\n",
       "      <td>NaN</td>\n",
       "      <td>NaN</td>\n",
       "      <td>Galaxy</td>\n",
       "    </tr>\n",
       "  </tbody>\n",
       "</table>\n",
       "</div>"
      ],
      "text/plain": [
       "   NGC  Messier other_names    Type\n",
       "0    1      NaN         NaN  Galaxy\n",
       "1    2      NaN         NaN  Galaxy\n",
       "2    3      NaN         NaN  Galaxy\n",
       "3    4      NaN         NaN  Galaxy\n",
       "4    5      NaN         NaN  Galaxy"
      ]
     },
     "execution_count": 53,
     "metadata": {},
     "output_type": "execute_result"
    }
   ],
   "source": [
    "nameSplitter = re.compile('(?:NGC *(\\d{1,4}))? *(.*)')\n",
    "\n",
    "def safeInt(x):\n",
    "    if x == '':\n",
    "        return np.nan\n",
    "    else:\n",
    "        return int(x)\n",
    "    \n",
    "def processOtherNames(s):\n",
    "    s = s.replace('¹',\"'\")\n",
    "    splitString = re.split('[,/]',s)\n",
    "    words = s.split(' ')\n",
    "    if words[-1] in ['Galaxy','Nebula'] and len(splitString) > 1:\n",
    "        splitString = [name.strip() + ' ' + words[-1] for name in splitString[:-1]] + [splitString[-1]]\n",
    "    out = [name.strip() for name in splitString]\n",
    "    if out == ['']:\n",
    "        out = np.nan\n",
    "    return out\n",
    "    \n",
    "messierList['NGC'] = messierList['Name'].map(lambda x: safeInt(nameSplitter.findall(x)[0][0]))\n",
    "messierList['other_names'] = messierList['Name'].map(lambda x: processOtherNames(nameSplitter.findall(x)[0][1]))\n",
    "\n",
    "ngcList = pd.read_excel('NGCObjects.xls',header=2)\n",
    "mergedDSOs = pd.merge(ngcList,messierList,how='left',left_on='ObjectNum',right_on='NGC')\n",
    "objectList = mergedDSOs[['ObjectNum_x','ObjectNum_y','other_names','Type_x']]\n",
    "objectList.columns = ['NGC','Messier','other_names','Type']\n",
    "objectList.head()"
   ]
  },
  {
   "cell_type": "markdown",
   "metadata": {},
   "source": [
    "## Manually adjust a few names"
   ]
  },
  {
   "cell_type": "code",
   "execution_count": 54,
   "metadata": {
    "ExecuteTime": {
     "end_time": "2018-07-19T16:07:50.363905Z",
     "start_time": "2018-07-19T16:07:50.320736Z"
    }
   },
   "outputs": [
    {
     "data": {
      "text/html": [
       "<div>\n",
       "<style scoped>\n",
       "    .dataframe tbody tr th:only-of-type {\n",
       "        vertical-align: middle;\n",
       "    }\n",
       "\n",
       "    .dataframe tbody tr th {\n",
       "        vertical-align: top;\n",
       "    }\n",
       "\n",
       "    .dataframe thead th {\n",
       "        text-align: right;\n",
       "    }\n",
       "</style>\n",
       "<table border=\"1\" class=\"dataframe\">\n",
       "  <thead>\n",
       "    <tr style=\"text-align: right;\">\n",
       "      <th></th>\n",
       "      <th>NGC</th>\n",
       "      <th>Messier</th>\n",
       "      <th>other_names</th>\n",
       "      <th>Type</th>\n",
       "    </tr>\n",
       "  </thead>\n",
       "  <tbody>\n",
       "    <tr>\n",
       "      <th>223</th>\n",
       "      <td>224</td>\n",
       "      <td>31.0</td>\n",
       "      <td>[Andromeda Galaxy]</td>\n",
       "      <td>Galaxy</td>\n",
       "    </tr>\n",
       "    <tr>\n",
       "      <th>597</th>\n",
       "      <td>598</td>\n",
       "      <td>33.0</td>\n",
       "      <td>[Triangulum Galaxy]</td>\n",
       "      <td>Galaxy</td>\n",
       "    </tr>\n",
       "    <tr>\n",
       "      <th>649</th>\n",
       "      <td>650</td>\n",
       "      <td>76.0</td>\n",
       "      <td>[Little Dumbell Nebula, Cork Nebula, Butterfly...</td>\n",
       "      <td>Planetary Nebula</td>\n",
       "    </tr>\n",
       "    <tr>\n",
       "      <th>1067</th>\n",
       "      <td>1068</td>\n",
       "      <td>77.0</td>\n",
       "      <td>[Cetus A]</td>\n",
       "      <td>Galaxy</td>\n",
       "    </tr>\n",
       "    <tr>\n",
       "      <th>1951</th>\n",
       "      <td>1952</td>\n",
       "      <td>1.0</td>\n",
       "      <td>[Crab Nebula]</td>\n",
       "      <td>Nebula</td>\n",
       "    </tr>\n",
       "    <tr>\n",
       "      <th>1975</th>\n",
       "      <td>1976</td>\n",
       "      <td>42.0</td>\n",
       "      <td>[Orion Nebula, Orion's Nebula]</td>\n",
       "      <td>Nebula</td>\n",
       "    </tr>\n",
       "    <tr>\n",
       "      <th>1981</th>\n",
       "      <td>1982</td>\n",
       "      <td>43.0</td>\n",
       "      <td>[de Mairan's Nebula]</td>\n",
       "      <td>Nebula</td>\n",
       "    </tr>\n",
       "    <tr>\n",
       "      <th>2023</th>\n",
       "      <td>2024</td>\n",
       "      <td>NaN</td>\n",
       "      <td>[Flame Nebula]</td>\n",
       "      <td>Nebula</td>\n",
       "    </tr>\n",
       "    <tr>\n",
       "      <th>2263</th>\n",
       "      <td>2264</td>\n",
       "      <td>NaN</td>\n",
       "      <td>[Cone Nebula]</td>\n",
       "      <td>Cluster Nebulosity</td>\n",
       "    </tr>\n",
       "    <tr>\n",
       "      <th>2391</th>\n",
       "      <td>2392</td>\n",
       "      <td>NaN</td>\n",
       "      <td>[Eskimo Nebula]</td>\n",
       "      <td>Planetary Nebula</td>\n",
       "    </tr>\n",
       "    <tr>\n",
       "      <th>2631</th>\n",
       "      <td>2632</td>\n",
       "      <td>44.0</td>\n",
       "      <td>[Beehive Cluster]</td>\n",
       "      <td>Open Cluster</td>\n",
       "    </tr>\n",
       "    <tr>\n",
       "      <th>3030</th>\n",
       "      <td>3031</td>\n",
       "      <td>81.0</td>\n",
       "      <td>[Bode's Galaxy]</td>\n",
       "      <td>Galaxy</td>\n",
       "    </tr>\n",
       "    <tr>\n",
       "      <th>3033</th>\n",
       "      <td>3034</td>\n",
       "      <td>82.0</td>\n",
       "      <td>[Cigar Galaxy]</td>\n",
       "      <td>Galaxy</td>\n",
       "    </tr>\n",
       "    <tr>\n",
       "      <th>3586</th>\n",
       "      <td>3587</td>\n",
       "      <td>97.0</td>\n",
       "      <td>[Owl Nebula]</td>\n",
       "      <td>Planetary Nebula</td>\n",
       "    </tr>\n",
       "    <tr>\n",
       "      <th>4485</th>\n",
       "      <td>4486</td>\n",
       "      <td>87.0</td>\n",
       "      <td>[Virgo A]</td>\n",
       "      <td>Galaxy</td>\n",
       "    </tr>\n",
       "    <tr>\n",
       "      <th>4593</th>\n",
       "      <td>4594</td>\n",
       "      <td>104.0</td>\n",
       "      <td>[Sombrero Galaxy]</td>\n",
       "      <td>Galaxy</td>\n",
       "    </tr>\n",
       "    <tr>\n",
       "      <th>4825</th>\n",
       "      <td>4826</td>\n",
       "      <td>64.0</td>\n",
       "      <td>[Blackeye Galaxy]</td>\n",
       "      <td>Galaxy</td>\n",
       "    </tr>\n",
       "    <tr>\n",
       "      <th>5054</th>\n",
       "      <td>5055</td>\n",
       "      <td>63.0</td>\n",
       "      <td>[Sunflower Galaxy]</td>\n",
       "      <td>Galaxy</td>\n",
       "    </tr>\n",
       "    <tr>\n",
       "      <th>5193</th>\n",
       "      <td>5194</td>\n",
       "      <td>51.0</td>\n",
       "      <td>[Whirlpool Galaxy]</td>\n",
       "      <td>Galaxy</td>\n",
       "    </tr>\n",
       "    <tr>\n",
       "      <th>5235</th>\n",
       "      <td>5236</td>\n",
       "      <td>83.0</td>\n",
       "      <td>[Southern Pinwheel Galaxy]</td>\n",
       "      <td>Galaxy</td>\n",
       "    </tr>\n",
       "    <tr>\n",
       "      <th>5456</th>\n",
       "      <td>5457</td>\n",
       "      <td>101.0</td>\n",
       "      <td>[Pinwheel Galaxy]</td>\n",
       "      <td>Galaxy</td>\n",
       "    </tr>\n",
       "    <tr>\n",
       "      <th>5865</th>\n",
       "      <td>5866</td>\n",
       "      <td>102.0</td>\n",
       "      <td>[Spindle Galaxy]</td>\n",
       "      <td>Galaxy</td>\n",
       "    </tr>\n",
       "    <tr>\n",
       "      <th>6204</th>\n",
       "      <td>6205</td>\n",
       "      <td>13.0</td>\n",
       "      <td>[Hercules Cluster]</td>\n",
       "      <td>Globular Cluster</td>\n",
       "    </tr>\n",
       "    <tr>\n",
       "      <th>6404</th>\n",
       "      <td>6405</td>\n",
       "      <td>6.0</td>\n",
       "      <td>[Butterfly Cluster]</td>\n",
       "      <td>Open Cluster</td>\n",
       "    </tr>\n",
       "    <tr>\n",
       "      <th>6474</th>\n",
       "      <td>6475</td>\n",
       "      <td>7.0</td>\n",
       "      <td>[Ptolemy's Cluster]</td>\n",
       "      <td>Open Cluster</td>\n",
       "    </tr>\n",
       "    <tr>\n",
       "      <th>6513</th>\n",
       "      <td>6514</td>\n",
       "      <td>20.0</td>\n",
       "      <td>[Trifid Nebula]</td>\n",
       "      <td>Cluster Nebulosity</td>\n",
       "    </tr>\n",
       "    <tr>\n",
       "      <th>6522</th>\n",
       "      <td>6523</td>\n",
       "      <td>8.0</td>\n",
       "      <td>[Lagoon Nebula]</td>\n",
       "      <td>Nebula</td>\n",
       "    </tr>\n",
       "    <tr>\n",
       "      <th>6542</th>\n",
       "      <td>6543</td>\n",
       "      <td>NaN</td>\n",
       "      <td>[Cat's Eye Nebula]</td>\n",
       "      <td>Planetary Nebula</td>\n",
       "    </tr>\n",
       "    <tr>\n",
       "      <th>6610</th>\n",
       "      <td>6611</td>\n",
       "      <td>16.0</td>\n",
       "      <td>[Eagle Nebula Cluster]</td>\n",
       "      <td>Cluster Nebulosity</td>\n",
       "    </tr>\n",
       "    <tr>\n",
       "      <th>6617</th>\n",
       "      <td>6618</td>\n",
       "      <td>17.0</td>\n",
       "      <td>[Omega Nebula, Swan Nebula, Horseshoe Nebula]</td>\n",
       "      <td>Cluster Nebulosity</td>\n",
       "    </tr>\n",
       "    <tr>\n",
       "      <th>6704</th>\n",
       "      <td>6705</td>\n",
       "      <td>11.0</td>\n",
       "      <td>[Wild Duck Cluster]</td>\n",
       "      <td>Open Cluster</td>\n",
       "    </tr>\n",
       "    <tr>\n",
       "      <th>6719</th>\n",
       "      <td>6720</td>\n",
       "      <td>57.0</td>\n",
       "      <td>[Ring Nebula]</td>\n",
       "      <td>Planetary Nebula</td>\n",
       "    </tr>\n",
       "    <tr>\n",
       "      <th>6852</th>\n",
       "      <td>6853</td>\n",
       "      <td>27.0</td>\n",
       "      <td>[Dumbbell Nebula]</td>\n",
       "      <td>Planetary Nebula</td>\n",
       "    </tr>\n",
       "    <tr>\n",
       "      <th>7661</th>\n",
       "      <td>7662</td>\n",
       "      <td>NaN</td>\n",
       "      <td>[Blue Snowball]</td>\n",
       "      <td>Planetary Nebula</td>\n",
       "    </tr>\n",
       "  </tbody>\n",
       "</table>\n",
       "</div>"
      ],
      "text/plain": [
       "       NGC  Messier                                        other_names  \\\n",
       "223    224     31.0                                 [Andromeda Galaxy]   \n",
       "597    598     33.0                                [Triangulum Galaxy]   \n",
       "649    650     76.0  [Little Dumbell Nebula, Cork Nebula, Butterfly...   \n",
       "1067  1068     77.0                                          [Cetus A]   \n",
       "1951  1952      1.0                                      [Crab Nebula]   \n",
       "1975  1976     42.0                     [Orion Nebula, Orion's Nebula]   \n",
       "1981  1982     43.0                               [de Mairan's Nebula]   \n",
       "2023  2024      NaN                                     [Flame Nebula]   \n",
       "2263  2264      NaN                                      [Cone Nebula]   \n",
       "2391  2392      NaN                                    [Eskimo Nebula]   \n",
       "2631  2632     44.0                                  [Beehive Cluster]   \n",
       "3030  3031     81.0                                    [Bode's Galaxy]   \n",
       "3033  3034     82.0                                     [Cigar Galaxy]   \n",
       "3586  3587     97.0                                       [Owl Nebula]   \n",
       "4485  4486     87.0                                          [Virgo A]   \n",
       "4593  4594    104.0                                  [Sombrero Galaxy]   \n",
       "4825  4826     64.0                                  [Blackeye Galaxy]   \n",
       "5054  5055     63.0                                 [Sunflower Galaxy]   \n",
       "5193  5194     51.0                                 [Whirlpool Galaxy]   \n",
       "5235  5236     83.0                         [Southern Pinwheel Galaxy]   \n",
       "5456  5457    101.0                                  [Pinwheel Galaxy]   \n",
       "5865  5866    102.0                                   [Spindle Galaxy]   \n",
       "6204  6205     13.0                                 [Hercules Cluster]   \n",
       "6404  6405      6.0                                [Butterfly Cluster]   \n",
       "6474  6475      7.0                                [Ptolemy's Cluster]   \n",
       "6513  6514     20.0                                    [Trifid Nebula]   \n",
       "6522  6523      8.0                                    [Lagoon Nebula]   \n",
       "6542  6543      NaN                                 [Cat's Eye Nebula]   \n",
       "6610  6611     16.0                             [Eagle Nebula Cluster]   \n",
       "6617  6618     17.0      [Omega Nebula, Swan Nebula, Horseshoe Nebula]   \n",
       "6704  6705     11.0                                [Wild Duck Cluster]   \n",
       "6719  6720     57.0                                      [Ring Nebula]   \n",
       "6852  6853     27.0                                  [Dumbbell Nebula]   \n",
       "7661  7662      NaN                                    [Blue Snowball]   \n",
       "\n",
       "                    Type  \n",
       "223               Galaxy  \n",
       "597               Galaxy  \n",
       "649     Planetary Nebula  \n",
       "1067              Galaxy  \n",
       "1951              Nebula  \n",
       "1975              Nebula  \n",
       "1981              Nebula  \n",
       "2023              Nebula  \n",
       "2263  Cluster Nebulosity  \n",
       "2391    Planetary Nebula  \n",
       "2631        Open Cluster  \n",
       "3030              Galaxy  \n",
       "3033              Galaxy  \n",
       "3586    Planetary Nebula  \n",
       "4485              Galaxy  \n",
       "4593              Galaxy  \n",
       "4825              Galaxy  \n",
       "5054              Galaxy  \n",
       "5193              Galaxy  \n",
       "5235              Galaxy  \n",
       "5456              Galaxy  \n",
       "5865              Galaxy  \n",
       "6204    Globular Cluster  \n",
       "6404        Open Cluster  \n",
       "6474        Open Cluster  \n",
       "6513  Cluster Nebulosity  \n",
       "6522              Nebula  \n",
       "6542    Planetary Nebula  \n",
       "6610  Cluster Nebulosity  \n",
       "6617  Cluster Nebulosity  \n",
       "6704        Open Cluster  \n",
       "6719    Planetary Nebula  \n",
       "6852    Planetary Nebula  \n",
       "7661    Planetary Nebula  "
      ]
     },
     "execution_count": 54,
     "metadata": {},
     "output_type": "execute_result"
    }
   ],
   "source": [
    "objectList.at[1975,'other_names'] = ['Orion Nebula',\"Orion's Nebula\"]\n",
    "objectList.at[204,'other_names'] = np.nan\n",
    "objectList.at[220,'other_names'] = np.nan\n",
    "objectList.at[6602,'other_names'] = np.nan\n",
    "objectList.at[6993,'other_names'] = np.nan\n",
    "objectList.at[2631,'other_names'] = ['Beehive Cluster']\n",
    "objectList.at[2023,'other_names'] = ['Flame Nebula']\n",
    "objectList.at[6542,'other_names'] = [\"Cat's Eye Nebula\"]\n",
    "objectList.at[2391,'other_names'] = ['Eskimo Nebula']\n",
    "objectList.at[7661,'other_names'] = ['Blue Snowball']\n",
    "objectList.at[2263,'other_names'] = ['Cone Nebula']\n",
    "objectList.at[597,'other_names'] = ['Triangulum Galaxy']\n",
    "objectList.at[6204,'other_names'] = ['Hercules Cluster']\n",
    "objectList[~(objectList['other_names'].isnull())]"
   ]
  },
  {
   "cell_type": "code",
   "execution_count": 107,
   "metadata": {
    "ExecuteTime": {
     "end_time": "2018-07-19T18:34:29.418316Z",
     "start_time": "2018-07-19T18:34:29.154331Z"
    }
   },
   "outputs": [
    {
     "name": "stderr",
     "output_type": "stream",
     "text": [
      "/opt/conda/envs/capstone/lib/python3.6/site-packages/ipykernel/__main__.py:1: SettingWithCopyWarning: \n",
      "A value is trying to be set on a copy of a slice from a DataFrame.\n",
      "Try using .loc[row_indexer,col_indexer] = value instead\n",
      "\n",
      "See the caveats in the documentation: http://pandas.pydata.org/pandas-docs/stable/indexing.html#indexing-view-versus-copy\n",
      "  if __name__ == '__main__':\n"
     ]
    }
   ],
   "source": [
    "objectList['Type'] = objectList['Type'].fillna(value='?')"
   ]
  },
  {
   "cell_type": "code",
   "execution_count": null,
   "metadata": {
    "collapsed": true
   },
   "outputs": [],
   "source": [
    "simpleType = {'Galaxy': 'Galaxy',\n",
    " 'Open Cluster': 'Cluster',\n",
    " 'Globular Cluster': 'Cluster',\n",
    " 'Cluster Nebulosity': 'Nebula',\n",
    " 'Nebula': 'Nebula',\n",
    " 'Planetary Nebula': 'Nebula',\n",
    " 'Star': 'Stars',\n",
    " 'Double Star': 'Stars',\n",
    " 'Triple Star': 'Stars',\n",
    " 'Asterism': 'Stars',\n",
    " 'Nebulosity in External Galaxy': 'Galaxy',\n",
    " '?': '?'}"
   ]
  },
  {
   "cell_type": "code",
   "execution_count": 109,
   "metadata": {
    "ExecuteTime": {
     "end_time": "2018-07-19T18:34:49.133225Z",
     "start_time": "2018-07-19T18:34:48.871426Z"
    },
    "scrolled": true
   },
   "outputs": [
    {
     "name": "stderr",
     "output_type": "stream",
     "text": [
      "/opt/conda/envs/capstone/lib/python3.6/site-packages/ipykernel/__main__.py:1: SettingWithCopyWarning: \n",
      "A value is trying to be set on a copy of a slice from a DataFrame.\n",
      "Try using .loc[row_indexer,col_indexer] = value instead\n",
      "\n",
      "See the caveats in the documentation: http://pandas.pydata.org/pandas-docs/stable/indexing.html#indexing-view-versus-copy\n",
      "  if __name__ == '__main__':\n"
     ]
    }
   ],
   "source": [
    "objectList['simpleType'] = objectList['Type'].map(lambda x: simpleType[x])"
   ]
  },
  {
   "cell_type": "code",
   "execution_count": 111,
   "metadata": {
    "ExecuteTime": {
     "end_time": "2018-07-19T18:35:08.075018Z",
     "start_time": "2018-07-19T18:35:08.066200Z"
    },
    "scrolled": true
   },
   "outputs": [
    {
     "data": {
      "text/plain": [
       "Galaxy     6046\n",
       "Cluster     681\n",
       "?           630\n",
       "Nebula      326\n",
       "Stars       157\n",
       "Name: simpleType, dtype: int64"
      ]
     },
     "execution_count": 111,
     "metadata": {},
     "output_type": "execute_result"
    }
   ],
   "source": [
    "objectList['simpleType'].value_counts()"
   ]
  },
  {
   "cell_type": "code",
   "execution_count": 114,
   "metadata": {
    "ExecuteTime": {
     "end_time": "2018-07-19T19:20:26.904031Z",
     "start_time": "2018-07-19T19:20:26.899144Z"
    },
    "collapsed": true
   },
   "outputs": [],
   "source": [
    "objectList.set_index('NGC',inplace=True)"
   ]
  },
  {
   "cell_type": "code",
   "execution_count": 155,
   "metadata": {
    "ExecuteTime": {
     "end_time": "2018-07-19T19:42:22.602648Z",
     "start_time": "2018-07-19T19:42:22.592185Z"
    },
    "collapsed": true
   },
   "outputs": [],
   "source": [
    "objectList.to_pickle('ngcDatabase.pkl')"
   ]
  },
  {
   "cell_type": "code",
   "execution_count": 55,
   "metadata": {
    "ExecuteTime": {
     "end_time": "2018-07-19T16:10:53.137864Z",
     "start_time": "2018-07-19T16:07:54.399076Z"
    },
    "collapsed": true
   },
   "outputs": [],
   "source": [
    "def maxSimilarity(name,title):\n",
    "    nameWords = name.split()\n",
    "    titleWords = title.split()\n",
    "    maxSim = 0\n",
    "    for i in range(len(titleWords)-len(nameWords)+1):\n",
    "        maxSim = max(maxSim,fuzz.ratio(name,' '.join(titleWords[i:i+len(nameWords)])))\n",
    "    return maxSim\n",
    "\n",
    "def getOtherNamesNGC(title,sens=85):\n",
    "    out = []\n",
    "    for namedObject in objectList[~(objectList['other_names'].isnull())].iterrows():\n",
    "        for name in namedObject[1]['other_names']:\n",
    "            sim = maxSimilarity(name,title)\n",
    "            if sim>sens:\n",
    "                out.append(int(namedObject[1]['NGC']))\n",
    "                break\n",
    "    return out\n",
    "\n",
    "df['other_names_NGC'] = df['post_title'].map(getOtherNamesNGC)"
   ]
  },
  {
   "cell_type": "code",
   "execution_count": 56,
   "metadata": {
    "ExecuteTime": {
     "end_time": "2018-07-19T16:17:24.645699Z",
     "start_time": "2018-07-19T16:17:19.620891Z"
    },
    "collapsed": true
   },
   "outputs": [],
   "source": [
    "def messierToNGC(n):\n",
    "    if(n in objectList['Messier'].values):\n",
    "        return int(objectList[objectList['Messier'] == n]['NGC'])\n",
    "    \n",
    "def combineObjects(row):\n",
    "    messierObjects = []\n",
    "    for m in row['messier_list']:\n",
    "        ngc = messierToNGC(m)\n",
    "        if ngc:\n",
    "            messierObjects.append(ngc)\n",
    "\n",
    "    return list(set(row['ngc_list'] + messierObjects + row['other_names_NGC']))\n",
    "\n",
    "df['dso_list'] = df.apply(combineObjects,axis=1)"
   ]
  },
  {
   "cell_type": "code",
   "execution_count": 140,
   "metadata": {
    "ExecuteTime": {
     "end_time": "2018-07-19T19:29:08.779255Z",
     "start_time": "2018-07-19T19:29:08.775410Z"
    },
    "collapsed": true
   },
   "outputs": [],
   "source": [
    "def isType(ngcObjs,objType):\n",
    "    return any(objectList.loc[ngcObjs]['simpleType'] == objType)"
   ]
  },
  {
   "cell_type": "code",
   "execution_count": 150,
   "metadata": {
    "ExecuteTime": {
     "end_time": "2018-07-19T19:36:33.041068Z",
     "start_time": "2018-07-19T19:32:19.984037Z"
    },
    "collapsed": true
   },
   "outputs": [],
   "source": [
    "for t in objectList['simpleType'].unique():\n",
    "    df['has_' + t] = df['dso_list'].map(lambda x: isType(x,t))"
   ]
  },
  {
   "cell_type": "code",
   "execution_count": null,
   "metadata": {
    "collapsed": true
   },
   "outputs": [],
   "source": [
    "df.to_pickle('processedData.pkl')"
   ]
  },
  {
   "cell_type": "code",
   "execution_count": 152,
   "metadata": {
    "ExecuteTime": {
     "end_time": "2018-07-19T19:39:02.746693Z",
     "start_time": "2018-07-19T19:39:02.711378Z"
    },
    "collapsed": true,
    "scrolled": true
   },
   "outputs": [],
   "source": [
    "dfUse = df[df['dso_list'].map(lambda x: len(x)>0) & df['processes_used'].map(lambda x: len(x) > 1)]"
   ]
  },
  {
   "cell_type": "code",
   "execution_count": 153,
   "metadata": {
    "ExecuteTime": {
     "end_time": "2018-07-19T19:39:09.747039Z",
     "start_time": "2018-07-19T19:39:09.711771Z"
    }
   },
   "outputs": [
    {
     "data": {
      "text/html": [
       "<div>\n",
       "<style scoped>\n",
       "    .dataframe tbody tr th:only-of-type {\n",
       "        vertical-align: middle;\n",
       "    }\n",
       "\n",
       "    .dataframe tbody tr th {\n",
       "        vertical-align: top;\n",
       "    }\n",
       "\n",
       "    .dataframe thead th {\n",
       "        text-align: right;\n",
       "    }\n",
       "</style>\n",
       "<table border=\"1\" class=\"dataframe\">\n",
       "  <thead>\n",
       "    <tr style=\"text-align: right;\">\n",
       "      <th></th>\n",
       "      <th>submission_id</th>\n",
       "      <th>post_title</th>\n",
       "      <th>link_flair</th>\n",
       "      <th>created_utc</th>\n",
       "      <th>author</th>\n",
       "      <th>url</th>\n",
       "      <th>first_op_comment</th>\n",
       "      <th>score</th>\n",
       "      <th>processes_used</th>\n",
       "      <th>messier_list</th>\n",
       "      <th>ngc_list</th>\n",
       "      <th>other_names_NGC</th>\n",
       "      <th>dso_list</th>\n",
       "      <th>has_Galaxy</th>\n",
       "      <th>has_?</th>\n",
       "      <th>has_Stars</th>\n",
       "      <th>has_Nebula</th>\n",
       "      <th>has_Cluster</th>\n",
       "    </tr>\n",
       "  </thead>\n",
       "  <tbody>\n",
       "    <tr>\n",
       "      <th>28</th>\n",
       "      <td>8f3jqj</td>\n",
       "      <td>I discovered a new low-surface-brightness gala...</td>\n",
       "      <td>DSOs</td>\n",
       "      <td>1.524757e+09</td>\n",
       "      <td>mrstaypuft</td>\n",
       "      <td>https://i.imgur.com/Ceg3sc1.jpg</td>\n",
       "      <td>Hey APers - I am really excited that I can fin...</td>\n",
       "      <td>16.0</td>\n",
       "      <td>[SubframeSelector, StarAlignment, ImageIntegra...</td>\n",
       "      <td>[]</td>\n",
       "      <td>[2655]</td>\n",
       "      <td>[]</td>\n",
       "      <td>[2655]</td>\n",
       "      <td>True</td>\n",
       "      <td>False</td>\n",
       "      <td>False</td>\n",
       "      <td>False</td>\n",
       "      <td>False</td>\n",
       "    </tr>\n",
       "    <tr>\n",
       "      <th>35</th>\n",
       "      <td>8ezrax</td>\n",
       "      <td>NGC 1579, The Northern Trifid</td>\n",
       "      <td>DSOs</td>\n",
       "      <td>1.524714e+09</td>\n",
       "      <td>themongoose85</td>\n",
       "      <td>http://sirius-astrophotography.com:8000/NGC-15...</td>\n",
       "      <td>I gathered the data for this image between Jan...</td>\n",
       "      <td>4.0</td>\n",
       "      <td>[BatchPreprocessing, LinearFit, DynamicBackgro...</td>\n",
       "      <td>[]</td>\n",
       "      <td>[1579]</td>\n",
       "      <td>[]</td>\n",
       "      <td>[1579]</td>\n",
       "      <td>False</td>\n",
       "      <td>False</td>\n",
       "      <td>False</td>\n",
       "      <td>True</td>\n",
       "      <td>False</td>\n",
       "    </tr>\n",
       "    <tr>\n",
       "      <th>63</th>\n",
       "      <td>8ep3s2</td>\n",
       "      <td>Finally happy with my star colors - NGC5367</td>\n",
       "      <td>DSOs</td>\n",
       "      <td>1.524613e+09</td>\n",
       "      <td>furgle</td>\n",
       "      <td>https://i.redd.it/1n6k84kl0yt01.png</td>\n",
       "      <td>NGC5367 is a reflection nebula 2000 light year...</td>\n",
       "      <td>8.0</td>\n",
       "      <td>[LinearFit, Deconvolution, BackgroundNeutraliz...</td>\n",
       "      <td>[]</td>\n",
       "      <td>[5367]</td>\n",
       "      <td>[]</td>\n",
       "      <td>[5367]</td>\n",
       "      <td>False</td>\n",
       "      <td>False</td>\n",
       "      <td>False</td>\n",
       "      <td>True</td>\n",
       "      <td>False</td>\n",
       "    </tr>\n",
       "    <tr>\n",
       "      <th>79</th>\n",
       "      <td>8eixzh</td>\n",
       "      <td>M51 - Whirlpool galaxy widefield with close up...</td>\n",
       "      <td>DSOs</td>\n",
       "      <td>1.524559e+09</td>\n",
       "      <td>darkarchon11</td>\n",
       "      <td>https://i.imgur.com/IqUVEce.jpg</td>\n",
       "      <td>Shot with Atik 383L+ and D5100 on two scopes s...</td>\n",
       "      <td>13.0</td>\n",
       "      <td>[ImageCalibration, Debayer, Blink, SubframeSel...</td>\n",
       "      <td>[51]</td>\n",
       "      <td>[]</td>\n",
       "      <td>[5194]</td>\n",
       "      <td>[5194]</td>\n",
       "      <td>True</td>\n",
       "      <td>False</td>\n",
       "      <td>False</td>\n",
       "      <td>False</td>\n",
       "      <td>False</td>\n",
       "    </tr>\n",
       "    <tr>\n",
       "      <th>88</th>\n",
       "      <td>8efqxb</td>\n",
       "      <td>M51 - Whirlpool Galaxy</td>\n",
       "      <td>DSOs</td>\n",
       "      <td>1.524524e+09</td>\n",
       "      <td>TROPiCALRUBi</td>\n",
       "      <td>https://imgur.com/a/rm82QR7</td>\n",
       "      <td>**Equipment**\\r\\n***\\r\\nSkywatcher EQ6 Pro\\r\\n...</td>\n",
       "      <td>4.0</td>\n",
       "      <td>[DynamicCrop, HistogramTransformation, Unsharp...</td>\n",
       "      <td>[51]</td>\n",
       "      <td>[]</td>\n",
       "      <td>[5194]</td>\n",
       "      <td>[5194]</td>\n",
       "      <td>True</td>\n",
       "      <td>False</td>\n",
       "      <td>False</td>\n",
       "      <td>False</td>\n",
       "      <td>False</td>\n",
       "    </tr>\n",
       "  </tbody>\n",
       "</table>\n",
       "</div>"
      ],
      "text/plain": [
       "   submission_id                                         post_title  \\\n",
       "28        8f3jqj  I discovered a new low-surface-brightness gala...   \n",
       "35        8ezrax                      NGC 1579, The Northern Trifid   \n",
       "63        8ep3s2        Finally happy with my star colors - NGC5367   \n",
       "79        8eixzh  M51 - Whirlpool galaxy widefield with close up...   \n",
       "88        8efqxb                             M51 - Whirlpool Galaxy   \n",
       "\n",
       "   link_flair   created_utc         author  \\\n",
       "28       DSOs  1.524757e+09     mrstaypuft   \n",
       "35       DSOs  1.524714e+09  themongoose85   \n",
       "63       DSOs  1.524613e+09         furgle   \n",
       "79       DSOs  1.524559e+09   darkarchon11   \n",
       "88       DSOs  1.524524e+09   TROPiCALRUBi   \n",
       "\n",
       "                                                  url  \\\n",
       "28                    https://i.imgur.com/Ceg3sc1.jpg   \n",
       "35  http://sirius-astrophotography.com:8000/NGC-15...   \n",
       "63                https://i.redd.it/1n6k84kl0yt01.png   \n",
       "79                    https://i.imgur.com/IqUVEce.jpg   \n",
       "88                        https://imgur.com/a/rm82QR7   \n",
       "\n",
       "                                     first_op_comment  score  \\\n",
       "28  Hey APers - I am really excited that I can fin...   16.0   \n",
       "35  I gathered the data for this image between Jan...    4.0   \n",
       "63  NGC5367 is a reflection nebula 2000 light year...    8.0   \n",
       "79  Shot with Atik 383L+ and D5100 on two scopes s...   13.0   \n",
       "88  **Equipment**\\r\\n***\\r\\nSkywatcher EQ6 Pro\\r\\n...    4.0   \n",
       "\n",
       "                                       processes_used messier_list ngc_list  \\\n",
       "28  [SubframeSelector, StarAlignment, ImageIntegra...           []   [2655]   \n",
       "35  [BatchPreprocessing, LinearFit, DynamicBackgro...           []   [1579]   \n",
       "63  [LinearFit, Deconvolution, BackgroundNeutraliz...           []   [5367]   \n",
       "79  [ImageCalibration, Debayer, Blink, SubframeSel...         [51]       []   \n",
       "88  [DynamicCrop, HistogramTransformation, Unsharp...         [51]       []   \n",
       "\n",
       "   other_names_NGC dso_list  has_Galaxy  has_?  has_Stars  has_Nebula  \\\n",
       "28              []   [2655]        True  False      False       False   \n",
       "35              []   [1579]       False  False      False        True   \n",
       "63              []   [5367]       False  False      False        True   \n",
       "79          [5194]   [5194]        True  False      False       False   \n",
       "88          [5194]   [5194]        True  False      False       False   \n",
       "\n",
       "    has_Cluster  \n",
       "28        False  \n",
       "35        False  \n",
       "63        False  \n",
       "79        False  \n",
       "88        False  "
      ]
     },
     "execution_count": 153,
     "metadata": {},
     "output_type": "execute_result"
    }
   ],
   "source": [
    "dfUse.head()"
   ]
  },
  {
   "cell_type": "code",
   "execution_count": 70,
   "metadata": {
    "ExecuteTime": {
     "end_time": "2018-07-19T16:37:30.191859Z",
     "start_time": "2018-07-19T16:37:30.185843Z"
    }
   },
   "outputs": [
    {
     "name": "stdout",
     "output_type": "stream",
     "text": [
      "[1976, 224, 3031, 5194, 3034, 598, 6618, 2024, 6853, 5457]\n",
      "[102, 75, 47, 36, 32, 30, 30, 24, 24, 23]\n"
     ]
    }
   ],
   "source": [
    "d = defaultdict(int)\n",
    "for row in dfUse['dso_list']:\n",
    "    for item in row:\n",
    "        d[item] += 1\n",
    "        \n",
    "mostPhotos = sorted(list(d.items()),key = lambda x: (-x[1],x[0]))\n",
    "objects = [item[0] for item in mostPhotos]\n",
    "count = [item[1] for item in mostPhotos]\n",
    "print(objects[:10])\n",
    "print(count[:10])"
   ]
  },
  {
   "cell_type": "code",
   "execution_count": 71,
   "metadata": {
    "ExecuteTime": {
     "end_time": "2018-07-19T16:37:30.862067Z",
     "start_time": "2018-07-19T16:37:30.858204Z"
    },
    "collapsed": true
   },
   "outputs": [],
   "source": [
    "objectNames = ['Orion Nebula', 'Andromeda Galaxy', \"Bode's Galaxy\",\n",
    "               'Whirlpool Galaxy', 'Cigar Galaxy', 'Omega Nebula',\n",
    "               'Triangulum Galaxy', 'Dumbbell Nebula',  'Flame Nebula',\n",
    "               'Pinwheel Galaxy']"
   ]
  },
  {
   "cell_type": "code",
   "execution_count": 158,
   "metadata": {
    "ExecuteTime": {
     "end_time": "2018-07-24T13:55:24.592454Z",
     "start_time": "2018-07-24T13:55:24.583845Z"
    },
    "collapsed": true
   },
   "outputs": [],
   "source": [
    "import matplotlib\n",
    "sns.set(style=\"white\", rc={\"axes.facecolor\": (0, 0, 0, 0)})\n",
    "%matplotlib inline\n",
    "matplotlib.rcParams['figure.dpi'] = 220"
   ]
  },
  {
   "cell_type": "code",
   "execution_count": 159,
   "metadata": {
    "ExecuteTime": {
     "end_time": "2018-07-24T13:55:26.030673Z",
     "start_time": "2018-07-24T13:55:25.137937Z"
    },
    "scrolled": true
   },
   "outputs": [
    {
     "data": {
      "image/png": "[encoded data removed]",
      "text/plain": [
       "<Figure size 3300x2200 with 1 Axes>"
      ]
     },
     "metadata": {},
     "output_type": "display_data"
    }
   ],
   "source": [
    "length = len(objectNames)\n",
    "plt.figure(figsize=(15,10))\n",
    "g=sns.barplot(y=objectNames,x=count[:length],orient='h',hue=np.ones(length))\n",
    "plt.xlabel('Number of posts')\n",
    "plt.ylabel('')\n",
    "plt.title('Top 10 Galaxies and Nebulae on /r/astrophotography')\n",
    "g.legend_.remove()"
   ]
  }
 ],
 "metadata": {
  "kernelspec": {
   "display_name": "Environment (conda_capstone)",
   "language": "python",
   "name": "conda_capstone"
  },
  "language_info": {
   "codemirror_mode": {
    "name": "ipython",
    "version": 3
   },
   "file_extension": ".py",
   "mimetype": "text/x-python",
   "name": "python",
   "nbconvert_exporter": "python",
   "pygments_lexer": "ipython3",
   "version": "3.6.5"
  },
  "varInspector": {
   "cols": {
    "lenName": 16,
    "lenType": 16,
    "lenVar": 40
   },
   "kernels_config": {
    "python": {
     "delete_cmd_postfix": "",
     "delete_cmd_prefix": "del ",
     "library": "var_list.py",
     "varRefreshCmd": "print(var_dic_list())"
    },
    "r": {
     "delete_cmd_postfix": ") ",
     "delete_cmd_prefix": "rm(",
     "library": "var_list.r",
     "varRefreshCmd": "cat(var_dic_list()) "
    }
   },
   "types_to_exclude": [
    "module",
    "function",
    "builtin_function_or_method",
    "instance",
    "_Feature"
   ],
   "window_display": false
  }
 },
 "nbformat": 4,
 "nbformat_minor": 2
}
